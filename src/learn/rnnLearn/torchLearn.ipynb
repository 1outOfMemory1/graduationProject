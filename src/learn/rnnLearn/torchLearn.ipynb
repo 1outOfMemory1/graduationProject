{
 "cells": [
  {
   "cell_type": "code",
   "execution_count": 1,
   "id": "0bcdebb8",
   "metadata": {},
   "outputs": [],
   "source": [
    "import torch\n",
    "import torch.nn as nn\n",
    "import numpy as np\n",
    "from matplotlib import pyplot as plt\n",
    "\n"
   ]
  },
  {
   "cell_type": "code",
   "execution_count": 2,
   "id": "1c67be9e",
   "metadata": {},
   "outputs": [
    {
     "name": "stdout",
     "output_type": "stream",
     "text": [
      "tensor([0.3512, 0.5134, 0.0890, 0.7581, 0.6310, 0.8566, 0.7967, 0.2238, 0.8616,\n",
      "        0.5392, 0.3777, 0.8903, 0.2162, 0.2637, 0.8299, 0.2038, 0.2253, 0.4160,\n",
      "        0.3374, 0.0679, 0.0622, 0.7868, 0.0369, 0.5648, 0.0240, 0.2162, 0.0171,\n",
      "        0.4130, 0.0769, 0.6756, 0.6235, 0.3608, 0.9953, 0.8473, 0.9153, 0.7031,\n",
      "        0.1766, 0.6694, 0.2375, 0.2922, 0.9299, 0.0190, 0.7314, 0.4149, 0.4127,\n",
      "        0.1950, 0.2707, 0.4258, 0.0362, 0.5243])\n"
     ]
    }
   ],
   "source": [
    "x = torch.rand([50])\n",
    "print(x)\n",
    "y= 3*x + 0.8"
   ]
  },
  {
   "cell_type": "code",
   "execution_count": 2,
   "id": "4240cbe4",
   "metadata": {},
   "outputs": [],
   "source": []
  }
 ],
 "metadata": {
  "kernelspec": {
   "display_name": "Python 3 (ipykernel)",
   "language": "python",
   "name": "python3"
  },
  "language_info": {
   "codemirror_mode": {
    "name": "ipython",
    "version": 3
   },
   "file_extension": ".py",
   "mimetype": "text/x-python",
   "name": "python",
   "nbconvert_exporter": "python",
   "pygments_lexer": "ipython3",
   "version": "3.8.13"
  }
 },
 "nbformat": 4,
 "nbformat_minor": 5
}
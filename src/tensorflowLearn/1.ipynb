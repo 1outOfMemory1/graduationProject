{
 "cells": [
  {
   "cell_type": "code",
   "execution_count": 6,
   "id": "4d239e9e",
   "metadata": {},
   "outputs": [],
   "source": [
    "import tensorflow as tf"
   ]
  },
  {
   "cell_type": "code",
   "execution_count": 7,
   "id": "d9796ec4",
   "metadata": {},
   "outputs": [
    {
     "data": {
      "text/plain": [
       "'2.5.3'"
      ]
     },
     "execution_count": 7,
     "metadata": {},
     "output_type": "execute_result"
    }
   ],
   "source": [
    "tf.__version__"
   ]
  },
  {
   "cell_type": "code",
   "execution_count": 5,
   "id": "9408c685",
   "metadata": {},
   "outputs": [
    {
     "name": "stdout",
     "output_type": "stream",
     "text": [
      "tf.Tensor(\n",
      "[[3 3]\n",
      " [6 6]], shape=(2, 2), dtype=int32)\n"
     ]
    }
   ],
   "source": [
    "x = [[1,1],[2,2]]\n",
    "m = tf.matmul(x,x)\n",
    "print(m)"
   ]
  },
  {
   "cell_type": "code",
   "execution_count": 7,
   "id": "0c533255",
   "metadata": {},
   "outputs": [
    {
     "data": {
      "text/plain": [
       "array([[3, 3],\n",
       "       [6, 6]])"
      ]
     },
     "execution_count": 7,
     "metadata": {},
     "output_type": "execute_result"
    }
   ],
   "source": [
    "m.numpy()"
   ]
  },
  {
   "cell_type": "code",
   "execution_count": 8,
   "id": "e9f794b5",
   "metadata": {},
   "outputs": [
    {
     "name": "stdout",
     "output_type": "stream",
     "text": [
      "tf.Tensor(\n",
      "[[3. 3.]\n",
      " [6. 6.]], shape=(2, 2), dtype=float32)\n"
     ]
    }
   ],
   "source": [
    "x = tf.cast(m,tf.float32)\n",
    "print(x)"
   ]
  },
  {
   "cell_type": "code",
   "execution_count": 32,
   "id": "9fa01b7c",
   "metadata": {},
   "outputs": [],
   "source": [
    "import math\n",
    "\n",
    "import tensorflow as tf\n",
    "\n",
    "import numpy as np\n",
    "import pandas as pd\n",
    "import matplotlib.pyplot as plt\n",
    "from tensorflow.keras import layers\n",
    "import tensorflow.keras\n",
    "import warnings\n",
    "from scipy.fftpack import fft\n",
    "\n",
    "x = np.arange(0, 100, 0.01)\n",
    "y =  np.fft.rfft([math.sin(2  * np.pi * ele) for ele in x])"
   ]
  },
  {
   "cell_type": "code",
   "execution_count": 33,
   "id": "055e84b8",
   "metadata": {},
   "outputs": [],
   "source": [
    "z = [ele.real  for ele in y]"
   ]
  },
  {
   "cell_type": "code",
   "execution_count": 34,
   "id": "4ea774d0",
   "metadata": {},
   "outputs": [
    {
     "data": {
      "text/plain": [
       "[<matplotlib.lines.Line2D at 0x23195459580>]"
      ]
     },
     "execution_count": 34,
     "metadata": {},
     "output_type": "execute_result"
    },
    {
     "data": {
      "image/png": "[encoded data removed]",
      "text/plain": [
       "<Figure size 432x288 with 1 Axes>"
      ]
     },
     "metadata": {
      "needs_background": "light"
     },
     "output_type": "display_data"
    }
   ],
   "source": [
    "plt.plot(z)"
   ]
  },
  {
   "cell_type": "code",
   "execution_count": null,
   "id": "5d3f6038",
   "metadata": {},
   "outputs": [],
   "source": []
  },
  {
   "cell_type": "code",
   "execution_count": null,
   "id": "695e5c8e",
   "metadata": {},
   "outputs": [],
   "source": []
  },
  {
   "cell_type": "code",
   "execution_count": 18,
   "id": "f94e8c93",
   "metadata": {},
   "outputs": [],
   "source": [
    "import numpy as np  # 导入一个数据处理模块\n",
    "import pylab as pl  # 导入一个绘图模块，matplotlib下的模块\n",
    "\n",
    "pl.rcParams['font.sans-serif'] = 'SimHei'  # 用来正常显示中文标签\n",
    "pl.rcParams['axes.unicode_minus'] = False  # 用来正常显示负号\n",
    "\n",
    "\n",
    "sampling_rate = 8000  # 采样频率为8000Hz\n",
    "fft_size = 512  # FFT处理的取样长度\n",
    "t = np.arange(0, 10.0, 1.0 / sampling_rate)  # np.arange(起点，终点，间隔)产生1s长的取样时间\n",
    "x = np.sin(500 * 2 * np.pi * t) + np.sin(1500 * 2 * np.pi * t)  # 两个正弦波叠加，156.25HZ和234.375HZ\n"
   ]
  },
  {
   "cell_type": "code",
   "execution_count": 26,
   "id": "051338c6",
   "metadata": {},
   "outputs": [
    {
     "data": {
      "text/plain": [
       "(512,)"
      ]
     },
     "execution_count": 26,
     "metadata": {},
     "output_type": "execute_result"
    }
   ],
   "source": [
    "# N点FFT进行精确频谱分析的要求是N个取样点包含整数个取样对象的波形。因此N点FFT能够完美计算频谱对取样对象的要求是n*Fs/N（n*采样频率/FFT长度），\n",
    "# 因此对8KHZ和512点而言，完美采样对象的周期最小要求是8000/512=15.625HZ,所以156.25的n为10,234.375的n为15。\n",
    "xs = x[:fft_size]  # 从波形数据中取样fft_size个点进行运算\n"
   ]
  },
  {
   "cell_type": "code",
   "execution_count": 28,
   "id": "e6c9ebf2",
   "metadata": {},
   "outputs": [
    {
     "data": {
      "text/plain": [
       "[<matplotlib.lines.Line2D at 0x191cee40490>]"
      ]
     },
     "execution_count": 28,
     "metadata": {},
     "output_type": "execute_result"
    },
    {
     "data": {
      "image/png": "[encoded data removed]",
      "text/plain": [
       "<Figure size 432x288 with 1 Axes>"
      ]
     },
     "metadata": {
      "needs_background": "light"
     },
     "output_type": "display_data"
    }
   ],
   "source": [
    "xf = np.fft.rfft(xs) / fft_size \n",
    "plt.plot(abs(xf))"
   ]
  },
  {
   "cell_type": "code",
   "execution_count": 35,
   "id": "278b4388",
   "metadata": {},
   "outputs": [
    {
     "ename": "NameError",
     "evalue": "name 'xs' is not defined",
     "output_type": "error",
     "traceback": [
      "\u001b[1;31m---------------------------------------------------------------------------\u001b[0m",
      "\u001b[1;31mNameError\u001b[0m                                 Traceback (most recent call last)",
      "Input \u001b[1;32mIn [35]\u001b[0m, in \u001b[0;36m<cell line: 1>\u001b[1;34m()\u001b[0m\n\u001b[1;32m----> 1\u001b[0m xf \u001b[38;5;241m=\u001b[39m np\u001b[38;5;241m.\u001b[39mfft\u001b[38;5;241m.\u001b[39mrfft(\u001b[43mxs\u001b[49m) \u001b[38;5;241m/\u001b[39m fft_size  \u001b[38;5;66;03m# 利用np.fft.rfft()进行FFT计算，rfft()是为了更方便对实数信号进行变换，由公式可知/fft_size为了正确显示波形能量\u001b[39;00m\n\u001b[0;32m      2\u001b[0m \u001b[38;5;66;03m# rfft函数的返回值是N/2+1个复数，分别表示从0(Hz)到sampling_rate/2(Hz)的分。\u001b[39;00m\n\u001b[0;32m      3\u001b[0m \u001b[38;5;66;03m# 于是可以通过下面的np.linspace计算出返回值中每个下标对应的真正的频率：\u001b[39;00m\n\u001b[0;32m      4\u001b[0m freqs \u001b[38;5;241m=\u001b[39m np\u001b[38;5;241m.\u001b[39mlinspace(\u001b[38;5;241m0\u001b[39m, sampling_rate \u001b[38;5;241m/\u001b[39m \u001b[38;5;241m2\u001b[39m, \u001b[38;5;28mint\u001b[39m(fft_size \u001b[38;5;241m/\u001b[39m \u001b[38;5;241m2\u001b[39m) \u001b[38;5;241m+\u001b[39m \u001b[38;5;241m1\u001b[39m)\n",
      "\u001b[1;31mNameError\u001b[0m: name 'xs' is not defined"
     ]
    }
   ],
   "source": [
    "\n",
    "xf = np.fft.rfft(xs) / fft_size  # 利用np.fft.rfft()进行FFT计算，rfft()是为了更方便对实数信号进行变换，由公式可知/fft_size为了正确显示波形能量\n",
    "# rfft函数的返回值是N/2+1个复数，分别表示从0(Hz)到sampling_rate/2(Hz)的分。\n",
    "# 于是可以通过下面的np.linspace计算出返回值中每个下标对应的真正的频率：\n",
    "freqs = np.linspace(0, sampling_rate / 2, int(fft_size / 2) + 1)\n",
    "# np.linspace(start, stop, num=50, endpoint=True, retstep=False, dtype=None)\n",
    "# 在指定的间隔内返回均匀间隔的数字\n",
    "xfp = 20 * np.log10(np.clip(np.abs(xf), 1e-20, 1e100))\n",
    "# 最后我们计算每个频率分量的幅值，并通过 20*np.log10()将其转换为以db单位的值。为了防止0幅值的成分造成log10无法计算，我们调用np.clip对xf的幅值进行上下限处理\n",
    "\n",
    "# 绘图显示结果\n",
    "pl.figure(figsize=(15, 4.5))\n",
    "pl.subplot(211)\n",
    "pl.plot(t[:fft_size], xs)\n",
    "pl.xlabel(u\"时间(S)\")\n",
    "pl.title(u\"500Hz and 1500Hz 波形图和频谱图\")\n",
    "pl.subplot(212)\n",
    "pl.plot(freqs, xfp)\n",
    "pl.xlabel(u\"频率(Hz)\")\n",
    "pl.subplots_adjust(hspace=0.4)\n",
    "pl.show()\n"
   ]
  },
  {
   "cell_type": "code",
   "execution_count": 38,
   "id": "e39a41cd",
   "metadata": {},
   "outputs": [],
   "source": [
    "import numpy as np\n",
    "\n",
    "from scipy.fftpack import fft\n",
    "\n",
    "import matplotlib.pyplot as plt\n",
    "\n",
    "x = np.linspace(0, 2*np.pi, 128)\n",
    "y = np.sin(x) + 2*np.sin(3*x) + 2*np.cos(3*x) + 4*np.sin(15*x)\n",
    "\n"
   ]
  },
  {
   "cell_type": "code",
   "execution_count": 39,
   "id": "989b5659",
   "metadata": {},
   "outputs": [
    {
     "data": {
      "text/plain": [
       "[<matplotlib.lines.Line2D at 0x231967038b0>]"
      ]
     },
     "execution_count": 39,
     "metadata": {},
     "output_type": "execute_result"
    },
    {
     "data": {
      "image/png": "[encoded data removed]",
      "text/plain": [
       "<Figure size 432x288 with 1 Axes>"
      ]
     },
     "metadata": {
      "needs_background": "light"
     },
     "output_type": "display_data"
    }
   ],
   "source": [
    "# 离散频率\n",
    "xf = np.arange(len(y))\n",
    "\n",
    "plt.plot(xf)"
   ]
  },
  {
   "cell_type": "code",
   "execution_count": 40,
   "id": "b9391896",
   "metadata": {},
   "outputs": [
    {
     "data": {
      "text/plain": [
       "[<matplotlib.lines.Line2D at 0x2319676f670>]"
      ]
     },
     "execution_count": 40,
     "metadata": {},
     "output_type": "execute_result"
    },
    {
     "data": {
      "image/png": "[encoded data removed]",
      "text/plain": [
       "<Figure size 432x288 with 1 Axes>"
      ]
     },
     "metadata": {
      "needs_background": "light"
     },
     "output_type": "display_data"
    }
   ],
   "source": [
    "xf_half = xf[range(int(len(x)/2))]\n",
    "plt.plot(xf_half)"
   ]
  },
  {
   "cell_type": "code",
   "execution_count": 41,
   "id": "1657a60d",
   "metadata": {},
   "outputs": [
    {
     "data": {
      "text/plain": [
       "[<matplotlib.lines.Line2D at 0x231967d8520>]"
      ]
     },
     "execution_count": 41,
     "metadata": {},
     "output_type": "execute_result"
    },
    {
     "data": {
      "image/png": "[encoded data removed]",
      "text/plain": [
       "<Figure size 432x288 with 1 Axes>"
      ]
     },
     "metadata": {
      "needs_background": "light"
     },
     "output_type": "display_data"
    }
   ],
   "source": [
    "# 由于对称性，因此只取一半区域\n",
    "\n",
    "\n",
    "# 执行完fft以后，对各频率的能量进行归一化处理\n",
    "yf = abs(fft(y))/len(x)\n",
    "plt.plot(yf)"
   ]
  },
  {
   "cell_type": "code",
   "execution_count": null,
   "id": "99ef6544",
   "metadata": {},
   "outputs": [],
   "source": [
    "\n",
    "# 由于对称性，因此只取一半区间\n",
    "yf_half = yf[range(int(len(x)/2))]\n",
    "\n",
    "plt.plot(xf_half, yf_half)\n",
    "\n",
    "plt.show()"
   ]
  },
  {
   "cell_type": "code",
   "execution_count": null,
   "id": "fdb722c6",
   "metadata": {},
   "outputs": [],
   "source": []
  },
  {
   "cell_type": "code",
   "execution_count": null,
   "id": "a18b1dfa",
   "metadata": {},
   "outputs": [],
   "source": []
  }
 ],
 "metadata": {
  "kernelspec": {
   "display_name": "Python 3 (ipykernel)",
   "language": "python",
   "name": "python3"
  },
  "language_info": {
   "codemirror_mode": {
    "name": "ipython",
    "version": 3
   },
   "file_extension": ".py",
   "mimetype": "text/x-python",
   "name": "python",
   "nbconvert_exporter": "python",
   "pygments_lexer": "ipython3",
   "version": "3.8.13"
  }
 },
 "nbformat": 4,
 "nbformat_minor": 5
}

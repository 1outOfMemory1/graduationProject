{
 "cells": [
  {
   "cell_type": "code",
   "execution_count": 24,
   "id": "4d239e9e",
   "metadata": {
    "pycharm": {
     "name": "#%%\n"
    }
   },
   "outputs": [],
   "source": [
    "import tensorflow as tf\n",
    "import numpy as np"
   ]
  },
  {
   "cell_type": "code",
   "execution_count": 31,
   "outputs": [
    {
     "name": "stdout",
     "output_type": "stream",
     "text": [
      "tf.Tensor(\n",
      "[[[[ 1.]\n",
      "   [ 2.]\n",
      "   [ 3.]\n",
      "   [ 4.]\n",
      "   [ 5.]\n",
      "   [ 6.]]\n",
      "\n",
      "  [[ 7.]\n",
      "   [ 8.]\n",
      "   [ 9.]\n",
      "   [10.]\n",
      "   [11.]\n",
      "   [12.]]\n",
      "\n",
      "  [[13.]\n",
      "   [14.]\n",
      "   [15.]\n",
      "   [16.]\n",
      "   [17.]\n",
      "   [18.]]\n",
      "\n",
      "  [[19.]\n",
      "   [20.]\n",
      "   [21.]\n",
      "   [22.]\n",
      "   [23.]\n",
      "   [24.]]\n",
      "\n",
      "  [[25.]\n",
      "   [26.]\n",
      "   [27.]\n",
      "   [28.]\n",
      "   [29.]\n",
      "   [30.]]\n",
      "\n",
      "  [[31.]\n",
      "   [32.]\n",
      "   [33.]\n",
      "   [34.]\n",
      "   [35.]\n",
      "   [36.]]]], shape=(1, 6, 6, 1), dtype=float32)\n",
      "tf.Tensor(\n",
      "[[[[ 1.]]\n",
      "\n",
      "  [[-1.]]\n",
      "\n",
      "  [[-1.]]]\n",
      "\n",
      "\n",
      " [[[-1.]]\n",
      "\n",
      "  [[ 1.]]\n",
      "\n",
      "  [[-1.]]]\n",
      "\n",
      "\n",
      " [[[-1.]]\n",
      "\n",
      "  [[-1.]]\n",
      "\n",
      "  [[ 1.]]]], shape=(3, 3, 1, 1), dtype=float32)\n"
     ]
    }
   ],
   "source": [
    "input1 = tf.constant(np.arange(1,37,1),shape=[1,6,6,1],dtype=tf.float32)\n",
    "filter1 = tf.constant([[1,-1,-1],[-1,1,-1],[-1,-1,1]],shape=[3,3,1,1],dtype=tf.float32)\n",
    "strides1 = [1,1,1,1]\n",
    "padding1 = 'VALID'\n",
    "print(input1)\n",
    "print(filter1)\n"
   ],
   "metadata": {
    "collapsed": false,
    "pycharm": {
     "name": "#%% 卷积层\n"
    }
   }
  },
  {
   "cell_type": "code",
   "execution_count": 32,
   "outputs": [
    {
     "name": "stdout",
     "output_type": "stream",
     "text": [
      "[[-24. -27. -30. -33.]\n",
      " [-42. -45. -48. -51.]\n",
      " [-60. -63. -66. -69.]\n",
      " [-78. -81. -84. -87.]]\n"
     ]
    }
   ],
   "source": [
    "result1 = tf.nn.conv2d(input1, filter1, strides1,padding1)\n",
    "print(result1.numpy().reshape(4,4))"
   ],
   "metadata": {
    "collapsed": false,
    "pycharm": {
     "name": "#%%\n"
    }
   }
  },
  {
   "cell_type": "code",
   "execution_count": 33,
   "outputs": [
    {
     "name": "stdout",
     "output_type": "stream",
     "text": [
      "tf.Tensor(\n",
      "[[[[36.]\n",
      "   [35.]\n",
      "   [34.]\n",
      "   [33.]\n",
      "   [32.]\n",
      "   [31.]]\n",
      "\n",
      "  [[30.]\n",
      "   [29.]\n",
      "   [28.]\n",
      "   [27.]\n",
      "   [26.]\n",
      "   [25.]]\n",
      "\n",
      "  [[24.]\n",
      "   [23.]\n",
      "   [22.]\n",
      "   [21.]\n",
      "   [20.]\n",
      "   [19.]]\n",
      "\n",
      "  [[18.]\n",
      "   [17.]\n",
      "   [16.]\n",
      "   [15.]\n",
      "   [14.]\n",
      "   [13.]]\n",
      "\n",
      "  [[12.]\n",
      "   [11.]\n",
      "   [10.]\n",
      "   [ 9.]\n",
      "   [ 8.]\n",
      "   [ 7.]]\n",
      "\n",
      "  [[ 6.]\n",
      "   [ 5.]\n",
      "   [ 4.]\n",
      "   [ 3.]\n",
      "   [ 2.]\n",
      "   [ 1.]]]], shape=(1, 6, 6, 1), dtype=float32)\n",
      "tf.Tensor(\n",
      "[[[[ 1.]]\n",
      "\n",
      "  [[-1.]]\n",
      "\n",
      "  [[-1.]]]\n",
      "\n",
      "\n",
      " [[[-1.]]\n",
      "\n",
      "  [[ 1.]]\n",
      "\n",
      "  [[-1.]]]\n",
      "\n",
      "\n",
      " [[[-1.]]\n",
      "\n",
      "  [[-1.]]\n",
      "\n",
      "  [[ 1.]]]], shape=(3, 3, 1, 1), dtype=float32)\n"
     ]
    }
   ],
   "source": [
    "input2 = tf.constant(np.arange(36,0,-1),shape=[1,6,6,1],dtype=tf.float32)\n",
    "filter2 = tf.constant([[1,-1,-1],[-1,1,-1],[-1,-1,1]],shape=[3,3,1,1],dtype=tf.float32)\n",
    "strides2 = [1,1,1,1]\n",
    "padding2 = 'VALID'\n",
    "print(input2)\n",
    "print(filter2)"
   ],
   "metadata": {
    "collapsed": false,
    "pycharm": {
     "name": "#%% 池化层\n"
    }
   }
  },
  {
   "cell_type": "code",
   "execution_count": 42,
   "outputs": [
    {
     "name": "stdout",
     "output_type": "stream",
     "text": [
      "[[36. 35. 34. 33. 32. 31.]\n",
      " [30. 29. 28. 27. 26. 25.]\n",
      " [24. 23. 22. 21. 20. 19.]\n",
      " [18. 17. 16. 15. 14. 13.]\n",
      " [12. 11. 10.  9.  8.  7.]\n",
      " [ 6.  5.  4.  3.  2.  1.]]\n",
      "[[36. 35. 34.]\n",
      " [30. 29. 28.]\n",
      " [24. 23. 22.]]\n"
     ]
    }
   ],
   "source": [
    "print(input2.numpy().reshape(6, 6))\n",
    "result2 = tf.nn.max_pool2d(input2,(4,4),  strides2, padding2, data_format=\"NHWC\", name=None)\n",
    "print(result2.numpy().reshape(3,3))"
   ],
   "metadata": {
    "collapsed": false,
    "pycharm": {
     "name": "#%%\n"
    }
   }
  }
 ],
 "metadata": {
  "kernelspec": {
   "display_name": "Python 3 (ipykernel)",
   "language": "python",
   "name": "python3"
  },
  "language_info": {
   "codemirror_mode": {
    "name": "ipython",
    "version": 3
   },
   "file_extension": ".py",
   "mimetype": "text/x-python",
   "name": "python",
   "nbconvert_exporter": "python",
   "pygments_lexer": "ipython3",
   "version": "3.8.13"
  }
 },
 "nbformat": 4,
 "nbformat_minor": 5
}